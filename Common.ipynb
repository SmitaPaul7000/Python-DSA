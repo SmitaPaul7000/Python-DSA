{
  "nbformat": 4,
  "nbformat_minor": 0,
  "metadata": {
    "colab": {
      "provenance": [],
      "authorship_tag": "ABX9TyPUdP7a8TfMLTI0eDumWh8S",
      "include_colab_link": true
    },
    "kernelspec": {
      "name": "python3",
      "display_name": "Python 3"
    },
    "language_info": {
      "name": "python"
    }
  },
  "cells": [
    {
      "cell_type": "markdown",
      "metadata": {
        "id": "view-in-github",
        "colab_type": "text"
      },
      "source": [
        "<a href=\"https://colab.research.google.com/github/SmitaPaul7000/Python-DSA/blob/main/Common.ipynb\" target=\"_parent\"><img src=\"https://colab.research.google.com/assets/colab-badge.svg\" alt=\"Open In Colab\"/></a>"
      ]
    },
    {
      "cell_type": "code",
      "source": [],
      "metadata": {
        "id": "8-L2hLmrjjoS"
      },
      "execution_count": null,
      "outputs": []
    },
    {
      "cell_type": "code",
      "source": [],
      "metadata": {
        "id": "7Ugpa7cEjlbS"
      },
      "execution_count": null,
      "outputs": []
    },
    {
      "cell_type": "code",
      "source": [],
      "metadata": {
        "id": "Oi2UhjG6jll9"
      },
      "execution_count": null,
      "outputs": []
    },
    {
      "cell_type": "code",
      "source": [],
      "metadata": {
        "id": "jXCfdH8_jlrP"
      },
      "execution_count": null,
      "outputs": []
    },
    {
      "cell_type": "code",
      "source": [],
      "metadata": {
        "id": "5ld3Xve1jluU"
      },
      "execution_count": null,
      "outputs": []
    },
    {
      "cell_type": "markdown",
      "source": [
        "#Move all zeros to the end of an array"
      ],
      "metadata": {
        "id": "GCU2w1PRm7iN"
      }
    },
    {
      "cell_type": "code",
      "source": [
        "arr = [1, 9, 8, 4, 0, 0, 2, 7, 0, 6, 0, 9, -1, 0, 0]\n",
        "# arr = [1]\n",
        "# arr = []\n",
        "i = 0\n",
        "\n",
        "for k in range(len(arr)):\n",
        "    if arr[k] != 0:\n",
        "        arr[i] = arr[k]\n",
        "        i += 1\n",
        "\n",
        "for j in range(i, len(arr)):\n",
        "    arr[j] = 0\n",
        "\n",
        "print(arr)"
      ],
      "metadata": {
        "colab": {
          "base_uri": "https://localhost:8080/"
        },
        "id": "Br2LUTZam73D",
        "outputId": "0f61a91d-190b-4133-9bb8-d8457831b648"
      },
      "execution_count": 30,
      "outputs": [
        {
          "output_type": "stream",
          "name": "stdout",
          "text": [
            "[]\n"
          ]
        }
      ]
    },
    {
      "cell_type": "markdown",
      "source": [
        "#Merge 2 sorted array"
      ],
      "metadata": {
        "id": "bu52SM8OktFH"
      }
    },
    {
      "cell_type": "code",
      "source": [
        "a = [1,3, 5,7, 11, 13, 90]\n",
        "b = [-1,2,4,9,10, 100, 120]\n",
        "\n",
        "c =[]\n",
        "\n",
        "i =0\n",
        "j = len(a)\n",
        "\n",
        "\n",
        "i1 =0\n",
        "j1 = len(b)\n",
        "\n",
        "while i < j and i1 < j1:\n",
        "  if a[i] < b[i1]:\n",
        "    c.append(a[i])\n",
        "    i = i+1\n",
        "  else:\n",
        "    c.append(b[i1])\n",
        "    i1 = i1+1\n",
        "\n",
        "while i1< j1:\n",
        "    c.append(b[i1])\n",
        "    i1 = i1+1\n",
        "\n",
        "while i< j:\n",
        "    c.append(a[i])\n",
        "    i = i+1\n",
        "\n",
        "print(c)"
      ],
      "metadata": {
        "colab": {
          "base_uri": "https://localhost:8080/"
        },
        "id": "Uxbmc2xYjlw6",
        "outputId": "b386fe9b-5d5a-4cda-a6d6-2e614063d2ad"
      },
      "execution_count": 18,
      "outputs": [
        {
          "output_type": "stream",
          "name": "stdout",
          "text": [
            "[-1, 1, 2, 3, 4, 5, 7, 9, 10, 11, 13, 90, 100, 120]\n"
          ]
        }
      ]
    },
    {
      "cell_type": "markdown",
      "source": [
        "# Reverse array inplace"
      ],
      "metadata": {
        "id": "o74p0onfjyB8"
      }
    },
    {
      "cell_type": "code",
      "source": [
        "a = [1, 2, 3, 4, 5]\n",
        "\n",
        "i =0\n",
        "j =len(a) -1\n",
        "\n",
        "while i< j:\n",
        "  a[i], a[j] = a[j], a[i]\n",
        "  i += 1\n",
        "  j -= 1\n",
        "\n",
        "print(a)"
      ],
      "metadata": {
        "colab": {
          "base_uri": "https://localhost:8080/"
        },
        "id": "szpTkBCHjl0V",
        "outputId": "be71eacd-f409-4bdf-c606-ee3bb9f3f4d2"
      },
      "execution_count": 6,
      "outputs": [
        {
          "output_type": "stream",
          "name": "stdout",
          "text": [
            "[5, 4, 3, 2, 1]\n"
          ]
        }
      ]
    },
    {
      "cell_type": "code",
      "source": [
        "def maxWater(arr):\n",
        "    left = 0\n",
        "    right = len(arr) - 1\n",
        "    res = 0\n",
        "    while left < right:\n",
        "\n",
        "        # Find the water stored in the container between\n",
        "        # arr[left] and arr[right]\n",
        "        water = min(arr[left], arr[right]) * (right - left)\n",
        "        res = max(res, water)\n",
        "\n",
        "        if arr[left] < arr[right]:\n",
        "            left += 1\n",
        "        else:\n",
        "            right -= 1\n",
        "\n",
        "    return res\n",
        "\n",
        "\n",
        "if __name__ == \"__main__\":\n",
        "    arr = [2, 1, 8, 6, 4, 6, 5, 5]\n",
        "    print(maxWater(arr))"
      ],
      "metadata": {
        "id": "hGRQxwpSYU1t",
        "colab": {
          "base_uri": "https://localhost:8080/"
        },
        "outputId": "ac10ad14-7887-4a3f-8301-586f3c296be2"
      },
      "execution_count": null,
      "outputs": [
        {
          "output_type": "stream",
          "name": "stdout",
          "text": [
            "25\n"
          ]
        }
      ]
    },
    {
      "cell_type": "code",
      "source": [
        "arr = [2, 1, 8, 6, 4, 6, 5, 5]\n",
        "\n",
        "left =0\n",
        "right = len(arr) -1\n",
        "res = 0\n",
        "result = 0\n",
        "\n",
        "while left < right:\n",
        "\n",
        "  water = min(arr[left] , arr[right]) * (right - left)\n",
        "  res = max(water , res)\n",
        "\n",
        "  if arr[left] < arr[right]:\n",
        "    left += 1\n",
        "  else:\n",
        "    right -= 1\n",
        "\n",
        "print(res)"
      ],
      "metadata": {
        "colab": {
          "base_uri": "https://localhost:8080/"
        },
        "id": "yi4NVNNHc6hY",
        "outputId": "1d94390f-fc8d-4b77-b5df-7ae3b3923799"
      },
      "execution_count": null,
      "outputs": [
        {
          "output_type": "stream",
          "name": "stdout",
          "text": [
            "25\n"
          ]
        }
      ]
    },
    {
      "cell_type": "markdown",
      "source": [
        "# Array : find greater num count"
      ],
      "metadata": {
        "id": "FQjSYbQ7YWEW"
      }
    },
    {
      "cell_type": "code",
      "source": [
        "A = [-3, -2, -1, -1]\n",
        "A = [-3, -2, 6, 8, 4, 8,5]\n",
        "max = A[0]\n",
        "c=0\n",
        "len_arr = 0\n",
        "\n",
        "for i in A:\n",
        "  len_arr += 1\n",
        "\n",
        "  if i > max:\n",
        "    max = i\n",
        "  elif i == max:\n",
        "    c+=1\n",
        "\n",
        "print(len_arr, c, max)"
      ],
      "metadata": {
        "colab": {
          "base_uri": "https://localhost:8080/"
        },
        "id": "flRIFLOIW35S",
        "outputId": "64db89ac-1947-4eda-8f72-9453f36e860f"
      },
      "execution_count": null,
      "outputs": [
        {
          "output_type": "stream",
          "name": "stdout",
          "text": [
            "7 2 8\n"
          ]
        }
      ]
    },
    {
      "cell_type": "code",
      "source": [],
      "metadata": {
        "id": "XSe6eJMMW5OF"
      },
      "execution_count": null,
      "outputs": []
    },
    {
      "cell_type": "markdown",
      "source": [
        "# Prime Number\n"
      ],
      "metadata": {
        "id": "B_UqEe9iWh0O"
      }
    },
    {
      "cell_type": "code",
      "source": [],
      "metadata": {
        "id": "OPRUtf5_jhlH"
      },
      "execution_count": null,
      "outputs": []
    },
    {
      "cell_type": "code",
      "source": [
        "def check_prime(N):\n",
        "    C = 0\n",
        "    i = 1\n",
        "    while i < N+1:\n",
        "        if N % i == 0:\n",
        "            C += 1\n",
        "\n",
        "        i += 1\n",
        "    if C == 2:\n",
        "      return True\n",
        "    else:\n",
        "      return False\n",
        "\n",
        "# Example usage\n",
        "print(check_prime(7))  # True\n",
        "print(check_prime(10)) # False\n",
        "print(check_prime(97)) # True\n"
      ],
      "metadata": {
        "colab": {
          "base_uri": "https://localhost:8080/"
        },
        "id": "VzJlK36ZFXYb",
        "outputId": "14a8106f-542c-4fb8-f0e2-58ef3f83ec58"
      },
      "execution_count": null,
      "outputs": [
        {
          "output_type": "stream",
          "name": "stdout",
          "text": [
            "True\n",
            "False\n",
            "True\n"
          ]
        }
      ]
    },
    {
      "cell_type": "code",
      "source": [],
      "metadata": {
        "id": "GOt_NeXRW2DB"
      },
      "execution_count": null,
      "outputs": []
    },
    {
      "cell_type": "code",
      "execution_count": null,
      "metadata": {
        "colab": {
          "base_uri": "https://localhost:8080/"
        },
        "id": "1nt1foz7db_0",
        "outputId": "fc9d4a8f-57d7-40d8-b176-723728df8b31"
      },
      "outputs": [
        {
          "output_type": "stream",
          "name": "stdout",
          "text": [
            "false 17 4\n"
          ]
        }
      ],
      "source": [
        "# check prime\n",
        "cnt = 0\n",
        "n = 18\n",
        "for i in range(2,n):\n",
        "  # print(i)\n",
        "  if n%i == 0:\n",
        "    cnt = cnt+1\n",
        "\n",
        "\n",
        "if cnt== 2:\n",
        "  print(\"True\" , i)\n",
        "else:\n",
        "  print(\"false\",i,  cnt)"
      ]
    },
    {
      "cell_type": "code",
      "source": [
        "num = 407\n",
        "\n",
        "# To take input from the user\n",
        "#num = int(input(\"Enter a number: \"))\n",
        "\n",
        "if num == 0 or num == 1:\n",
        "    print(num, \"is not a prime number\")\n",
        "elif num > 1:\n",
        "   # check for factors\n",
        "   for i in range(2,num):\n",
        "       if (num % i) == 0:\n",
        "           print(num,\"is not a prime number\")\n",
        "           print(i,\"times\",num//i,\"is\",num)\n",
        "           break\n",
        "   else:\n",
        "       print(num,\"is a prime number\")\n",
        "\n",
        "# if input number is less than\n",
        "# or equal to 1, it is not prime\n",
        "else:\n",
        "   print(num,\"is not a prime number\")"
      ],
      "metadata": {
        "colab": {
          "base_uri": "https://localhost:8080/"
        },
        "id": "0_H1RpLPpF8U",
        "outputId": "fb4e5d1f-5c40-4277-8175-70bd1502147e"
      },
      "execution_count": null,
      "outputs": [
        {
          "output_type": "stream",
          "name": "stdout",
          "text": [
            "407 is not a prime number\n",
            "11 times 37 is 407\n"
          ]
        }
      ]
    },
    {
      "cell_type": "code",
      "source": [
        "n  = 17\n",
        "is_prime = True\n",
        "\n",
        "for i in range(2, n):\n",
        "  if n% i ==0:\n",
        "    is_prime = False\n",
        "    break\n",
        "\n",
        "print(is_prime)\n"
      ],
      "metadata": {
        "colab": {
          "base_uri": "https://localhost:8080/"
        },
        "id": "NarfbD5G6Nnt",
        "outputId": "e2314986-b732-4d25-ce4f-1bc0d9372dfa"
      },
      "execution_count": null,
      "outputs": [
        {
          "output_type": "stream",
          "name": "stdout",
          "text": [
            "True\n"
          ]
        }
      ]
    },
    {
      "cell_type": "code",
      "source": [
        "n  = 117\n",
        "is_prime = True\n",
        "\n",
        "for i in range(2, int(n **0.5) + 1):\n",
        "  if n% i ==0:\n",
        "    is_prime = False\n",
        "    break\n",
        "\n",
        "print(is_prime)"
      ],
      "metadata": {
        "colab": {
          "base_uri": "https://localhost:8080/"
        },
        "id": "PvBpwzCT7NeL",
        "outputId": "afc6b9a8-443b-44bc-818d-941998534241"
      },
      "execution_count": null,
      "outputs": [
        {
          "output_type": "stream",
          "name": "stdout",
          "text": [
            "False\n"
          ]
        }
      ]
    },
    {
      "cell_type": "code",
      "source": [
        "prim_num = []\n",
        "\n",
        "for j in range(1, 100):\n",
        "  n  = j\n",
        "  is_prime = True\n",
        "\n",
        "  for i in range(2, int(n **0.5) + 1):\n",
        "    if n% i ==0:\n",
        "      is_prime = False\n",
        "      break\n",
        "\n",
        "  # print(j, \"  \", is_prime)\n",
        "  if(is_prime):\n",
        "    prim_num.append(j)\n",
        "\n",
        "print(prim_num)"
      ],
      "metadata": {
        "colab": {
          "base_uri": "https://localhost:8080/"
        },
        "id": "AOURnxdw7lJl",
        "outputId": "9df3a23e-9e5e-44f0-a4aa-46769477ac9e"
      },
      "execution_count": null,
      "outputs": [
        {
          "output_type": "stream",
          "name": "stdout",
          "text": [
            "[1, 2, 3, 5, 7, 11, 13, 17, 19, 23, 29, 31, 37, 41, 43, 47, 53, 59, 61, 67, 71, 73, 79, 83, 89, 97]\n"
          ]
        }
      ]
    },
    {
      "cell_type": "code",
      "source": [
        "prim_num = []\n",
        "\n",
        "for j in range(1, 100):\n",
        "  n  = j\n",
        "  is_prime = True\n",
        "\n",
        "  while i*i < n:\n",
        "    if n% i ==0:\n",
        "      is_prime = False\n",
        "      break\n",
        "    i+=1\n",
        "\n",
        "  # print(j, \"  \", is_prime)\n",
        "  if(is_prime):\n",
        "    prim_num.append(j)\n",
        "\n",
        "print(prim_num)"
      ],
      "metadata": {
        "colab": {
          "base_uri": "https://localhost:8080/"
        },
        "id": "ZzZ6mcTJ9Fb-",
        "outputId": "c430afcd-c3d9-4598-f047-b535715ed879"
      },
      "execution_count": null,
      "outputs": [
        {
          "output_type": "stream",
          "name": "stdout",
          "text": [
            "[1, 2, 3, 4, 5, 6, 7, 8, 9, 10, 11, 12, 13, 14, 15, 16, 17, 18, 19, 20, 21, 22, 23, 24, 25, 26, 27, 28, 29, 30, 31, 32, 33, 34, 35, 36, 37, 38, 39, 40, 41, 42, 43, 44, 45, 46, 47, 48, 49, 50, 51, 52, 53, 54, 55, 56, 57, 58, 59, 60, 61, 62, 63, 64, 65, 66, 67, 68, 69, 70, 71, 72, 73, 74, 75, 76, 77, 78, 79, 80, 81, 82, 83, 84, 85, 86, 87, 88, 89, 90, 91, 92, 93, 94, 95, 96, 97, 98, 99]\n"
          ]
        }
      ]
    },
    {
      "cell_type": "code",
      "source": [
        "def check_prime(N):\n",
        "    C = 0\n",
        "    i = 1\n",
        "    while i * i <= N:\n",
        "        if N % i == 0:\n",
        "            if i == N / i:\n",
        "                C += 1\n",
        "            else:\n",
        "                C += 2\n",
        "        i += 1\n",
        "    return C == 2\n",
        "\n",
        "# Example usage\n",
        "print(check_prime(7))  # True\n",
        "print(check_prime(10)) # False\n"
      ],
      "metadata": {
        "colab": {
          "base_uri": "https://localhost:8080/"
        },
        "id": "8xBMqnQu-kEh",
        "outputId": "5d2f83ae-23dc-4515-c81f-c4ee4b2843cc"
      },
      "execution_count": null,
      "outputs": [
        {
          "output_type": "stream",
          "name": "stdout",
          "text": [
            "True\n",
            "False\n"
          ]
        }
      ]
    }
  ]
}